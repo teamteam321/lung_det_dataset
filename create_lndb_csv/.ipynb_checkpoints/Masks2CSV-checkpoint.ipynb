{
 "cells": [
  {
   "cell_type": "code",
   "execution_count": 1,
   "metadata": {},
   "outputs": [],
   "source": [
    "import os\n",
    "import matplotlib.pyplot as plt\n",
    "import json\n",
    "import nibabel as nib\n",
    "\n",
    "import numpy as np\n",
    "import cv2\n",
    "#from keras_retinanet.utils.visualization import draw_box, draw_caption"
   ]
  },
  {
   "cell_type": "code",
   "execution_count": 2,
   "metadata": {},
   "outputs": [],
   "source": [
    "#path = \"/notebooks/VOLUME/LNDb/NIFTI-Masks-Union-ZOOM\"\n",
    "path = \"/notebooks/VOLUME_sdb_5TB/script/create_lndb_csv/LNDb_MASK_050_FROM_075\"\n",
    "path = \"/notebooks/VOLUME_sdb_5TB/script/create_lndb_csv/result\""
   ]
  },
  {
   "cell_type": "code",
   "execution_count": 3,
   "metadata": {},
   "outputs": [],
   "source": [
    "def progress(count, total, status=''):\n",
    "    import sys \n",
    "    bar_len = 60\n",
    "    filled_len = int(round(bar_len * count / float(total)))\n",
    "\n",
    "    percents = round(100.0 * count / float(total), 1)\n",
    "    bar = '=' * filled_len + '-' * (bar_len - filled_len)\n",
    "\n",
    "    sys.stdout.write('[%s] %s%s ...%s\\r' % (bar, percents, '%', status))\n",
    "    sys.stdout.flush()\n",
    "    \n",
    "def bbox2_2D(img):\n",
    "\n",
    "    r = np.any(img, axis= 1)\n",
    "    c = np.any(img, axis= 0)\n",
    "\n",
    "    rmin, rmax = np.where(r)[0][[0, -1]]\n",
    "    cmin, cmax = np.where(c)[0][[0, -1]]\n",
    "\n",
    "    return rmin, rmax, cmin, cmax"
   ]
  },
  {
   "cell_type": "code",
   "execution_count": 4,
   "metadata": {},
   "outputs": [],
   "source": [
    "with open( '/notebooks/VOLUME_sdb_5TB/CROP_POSITION/LNDb_CropPosition.json' , 'r') as file:\n",
    "    crop = json.load( file )"
   ]
  },
  {
   "cell_type": "code",
   "execution_count": 9,
   "metadata": {
    "tags": []
   },
   "outputs": [
    {
     "name": "stdout",
     "output_type": "stream",
     "text": [
      "[============================================================] 99.6% ...LNDb-0312_Union-ZOOM.nii.gz\r"
     ]
    }
   ],
   "source": [
    "csv_list = []\n",
    "\n",
    "folderWalk = next(os.walk(path))\n",
    "total = len(folderWalk[2])\n",
    "\n",
    "folderWalk[2].sort()\n",
    "\n",
    "for i,file in enumerate(folderWalk[2][:300]):\n",
    "    progress(i, total, status=file)\n",
    "\n",
    "    #if file.split(\".\")[0].replace(\"_Union\",\"\") in trainTest[\"train\"]:\n",
    "    #    continue\n",
    "    pathMask = os.path.join(path,file)\n",
    "    loaded_labels = nib.load(pathMask)\n",
    "    labels = loaded_labels.get_fdata()\n",
    "    #print(labels)\n",
    "\n",
    "    \n",
    "\n",
    "    labels = np.fliplr(np.rot90(labels,3))\n",
    "    \n",
    "    labels = labels.astype(np.uint8)\n",
    "    index = labels.shape[2]\n",
    "    image_name = file.split(\".\")[0].replace(\"_Union\",\"\")\n",
    "    png_dir_path = \"LNDb_png_space0_-1300_300/\" + image_name\n",
    "    for i in range(index):\n",
    "        s = i - crop[file.replace(\"_Union\",\"\")]['z1']\n",
    "        png_path = \"/notebooks/VOLUME/LNDb/\" + png_dir_path + \"/\" + image_name + \"_frame_\" + str(s+1) + \".png\"\n",
    "        num_label = np.unique(labels[...,i])\n",
    "        if len(num_label) == 1:\n",
    "            continue\n",
    "        num_label = np.delete(num_label,0)\n",
    "        \n",
    "        for j in num_label:\n",
    "            label_temp = np.where(labels[...,i] == j, 1 , 0)\n",
    "            box = bbox2_2D(label_temp)\n",
    "            x1,x2,y1,y2 = box[2],box[3],box[0],box[1]\n",
    "            area = (x2 - x1) * (y2 - y1)\n",
    "            #area = (x2 - x1 + 1) * (y2 - y1 + 1)\n",
    "            if area <= 4:\n",
    "                continue\n",
    "\n",
    "            x1 = x1 - 1 - 10\n",
    "            x2 = x2 - 1 + 10\n",
    "            y1 = y1 - 1 - 10\n",
    "            y2 = y2 - 1 + 10\n",
    "\n",
    "            name = file.replace(\"_Union\",\"\")\n",
    "            \n",
    "            x1 = x1 - crop[name]['x1']\n",
    "            if(x1 < 0):\n",
    "                x1 = 0\n",
    "\n",
    "            x2 = x2 - crop[name]['x1']\n",
    "            if(x2 > crop[name]['x2'] - crop[name]['x1'] ):\n",
    "                x2 = crop[name]['x2'] - crop[name]['x1']\n",
    "                \n",
    "            #flip crop coordination Y only\n",
    "            \n",
    "            newY2 = labels.shape[0]-crop[name]['y1']\n",
    "            newY1 = labels.shape[0]-crop[name]['y2']\n",
    "            #y1 = y1 - crop[name]['y1']\n",
    "            y1 = y1 - crop[name]['y1'] \n",
    "            if(y1 < 0):\n",
    "                y1 = 0\n",
    "\n",
    "            y2 = y2 - crop[name]['y1'] \n",
    "            if(y2 > crop[name]['y2'] - crop[name]['y1']):\n",
    "                y2 = crop[name]['y2'] - crop[name]['y1']\n",
    "\n",
    "            list = [png_path,x1,y1,x2,y2,\"tumor\"]\n",
    "            csv_list.append(list)\n",
    "\n",
    "    \n",
    "    \n",
    "            \n",
    "        \n",
    "    "
   ]
  },
  {
   "cell_type": "code",
   "execution_count": 52,
   "metadata": {},
   "outputs": [],
   "source": [
    "import random\n",
    "\n",
    "random.seed(1)\n",
    "random.shuffle(csv_list)\n",
    "# print(csv_list)"
   ]
  },
  {
   "cell_type": "code",
   "execution_count": 10,
   "metadata": {},
   "outputs": [],
   "source": [
    "import csv\n",
    "with open('LNDb_trainf.csv', 'w', newline = '') as csvFile:\n",
    "    writer = csv.writer(csvFile)\n",
    "    writer.writerows(csv_list)\n",
    "csvFile.close()"
   ]
  },
  {
   "cell_type": "code",
   "execution_count": null,
   "metadata": {},
   "outputs": [],
   "source": []
  }
 ],
 "metadata": {
  "kernelspec": {
   "display_name": "Python 3",
   "language": "python",
   "name": "python3"
  },
  "language_info": {
   "codemirror_mode": {
    "name": "ipython",
    "version": 3
   },
   "file_extension": ".py",
   "mimetype": "text/x-python",
   "name": "python",
   "nbconvert_exporter": "python",
   "pygments_lexer": "ipython3",
   "version": "3.7.6"
  }
 },
 "nbformat": 4,
 "nbformat_minor": 4
}
