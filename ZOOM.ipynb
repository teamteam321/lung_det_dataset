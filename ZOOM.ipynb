{
 "cells": [
  {
   "cell_type": "code",
   "execution_count": 1,
   "metadata": {},
   "outputs": [],
   "source": [
    "import os\n",
    "import shutil\n",
    "\n",
    "import warnings\n",
    "warnings.filterwarnings(\"ignore\")\n",
    "\n",
    "import nibabel as nib\n",
    "import dicom2nifti\n",
    "import numpy as np\n",
    "\n",
    "from tqdm import tqdm\n",
    "from scipy import ndimage\n",
    "from matplotlib import pyplot as plt\n",
    "\n",
    "from multiprocessing import Pool, cpu_count\n",
    "\n",
    "import SimpleITK as sitk"
   ]
  },
  {
   "cell_type": "code",
   "execution_count": 2,
   "metadata": {
    "tags": []
   },
   "outputs": [
    {
     "output_type": "stream",
     "name": "stdout",
     "text": [
      "Number of nifti files: 59 files\n"
     ]
    }
   ],
   "source": [
    "LIDC_IDRI_NIFTI = './niigz'\n",
    "\n",
    "# LIDC_IDRI_NIFTI = './LIDC-IDRI-NIFTI-RAI-LABEL-Union/' \n",
    "\n",
    "nifti_paths = sorted([ os.path.join(LIDC_IDRI_NIFTI, p) for p in os.listdir(LIDC_IDRI_NIFTI) if 'checkp' not in p ])\n",
    "print( \"Number of nifti files: %d files\" % len(nifti_paths) )"
   ]
  },
  {
   "cell_type": "code",
   "execution_count": 3,
   "metadata": {},
   "outputs": [],
   "source": [
    "LIDC_IDRI_NIFTI_ZOOM = './niigz_075'\n",
    "# LIDC_IDRI_NIFTI_ZOOM = './LIDC-IDRI-NIFTI-RAI-LABEL-Union-ZOOM/'\n",
    "new_spacing = 0.75\n",
    "\n",
    "if os.path.exists( LIDC_IDRI_NIFTI_ZOOM ):\n",
    "    shutil.rmtree(LIDC_IDRI_NIFTI_ZOOM)\n",
    "\n",
    "os.mkdir( LIDC_IDRI_NIFTI_ZOOM )"
   ]
  },
  {
   "cell_type": "code",
   "execution_count": 4,
   "metadata": {},
   "outputs": [],
   "source": [
    "# If label: Please use order = 0 ,else order = 3\n",
    "\n",
    "def zoom( data ):\n",
    "    def do(path):\n",
    "        load_nifti = nib.load(path)\n",
    "        affine = load_nifti.affine\n",
    "        images = load_nifti.get_fdata().astype(np.float64)\n",
    "        header = load_nifti.header\n",
    "        \n",
    "        x_space, y_space, z_space = header['pixdim'][1:4]\n",
    "        x_space, y_space, z_space\n",
    "        \n",
    "        \n",
    "        zoom =  np.asarray( [ x_space, y_space, z_space ] ) / np.asarray( [new_spacing]*3 )\n",
    "        \n",
    "        zoomed_image = ndimage.zoom(images, zoom, order=3, mode='nearest', cval=0.0, prefilter=True)\n",
    "        \n",
    "#         round_image = np.around(zoomed_image!=0).astype(np.uint8)\n",
    "        \n",
    "        round_image = zoomed_image.astype(np.int16)\n",
    "        \n",
    "       \n",
    "        new_affine = affine.copy()\n",
    "        for i in range(3):\n",
    "            new_affine[i, i] = new_affine[i, i] / zoom[i]\n",
    "        \n",
    "        new_images = nib.Nifti1Image(round_image,new_affine)\n",
    "        dst_path = os.path.join( LIDC_IDRI_NIFTI_ZOOM, path.split( os.sep )[-1][:-7] + '-ZOOM.nii.gz' )\n",
    "        new_images.to_filename(dst_path)\n",
    "        \n",
    "#         img = sitk.ReadImage(dst_path)\n",
    "#         cc = sitk.ConnectedComponent(img)\n",
    "#         sitk.WriteImage(cc, dst_path)\n",
    "        \n",
    "    try:\n",
    "        do(data)\n",
    "    except:\n",
    "        with open('log.txt', 'a') as f:\n",
    "            f.write(\"%s\\n\" % (data) )"
   ]
  },
  {
   "cell_type": "code",
   "execution_count": 5,
   "metadata": {},
   "outputs": [],
   "source": [
    "for xc in nifti_paths:\n",
    "    zoom(xc)"
   ]
  },
  {
   "cell_type": "code",
   "execution_count": null,
   "metadata": {},
   "outputs": [],
   "source": [
    "zoom(nifti_paths[0])"
   ]
  },
  {
   "cell_type": "code",
   "execution_count": 8,
   "metadata": {
    "tags": []
   },
   "outputs": [
    {
     "output_type": "stream",
     "name": "stderr",
     "text": "  0%|          | 0/58 [00:00&lt;?, ?it/s]"
    }
   ],
   "source": [
    "with Pool(cpu_count()-2) as pool:\n",
    "    r = list(tqdm(pool.imap(zoom, nifti_paths), total=len(nifti_paths)))"
   ]
  },
  {
   "cell_type": "code",
   "execution_count": null,
   "metadata": {},
   "outputs": [],
   "source": [
    "exit()"
   ]
  },
  {
   "cell_type": "code",
   "execution_count": null,
   "metadata": {},
   "outputs": [],
   "source": []
  }
 ],
 "metadata": {
  "kernelspec": {
   "display_name": "Python 3",
   "language": "python",
   "name": "python3"
  },
  "language_info": {
   "codemirror_mode": {
    "name": "ipython",
    "version": 3
   },
   "file_extension": ".py",
   "mimetype": "text/x-python",
   "name": "python",
   "nbconvert_exporter": "python",
   "pygments_lexer": "ipython3",
   "version": "3.7.6-final"
  }
 },
 "nbformat": 4,
 "nbformat_minor": 4
}